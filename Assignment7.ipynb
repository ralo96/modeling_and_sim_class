{
 "cells": [
  {
   "cell_type": "code",
   "execution_count": 4,
   "id": "48ad8d67",
   "metadata": {},
   "outputs": [
    {
     "name": "stdout",
     "output_type": "stream",
     "text": [
      " message: Optimization terminated successfully\n",
      " success: True\n",
      "  status: 0\n",
      "     fun: -26.999999999979394\n",
      "       x: [ 3.000e+00  3.000e+00  3.000e+00]\n",
      "     nit: 3\n",
      "     jac: [-9.000e+00 -9.000e+00 -9.000e+00]\n",
      "    nfev: 12\n",
      "    njev: 3\n",
      "Optimal length:       2.999999999999197\n",
      "Optimal width:        2.9999999999992557\n",
      "Optimal height:       2.9999999999992575\n",
      "Optimal volume:       26.999999999979394\n",
      "Optimal surface area: 53.999999999972516\n"
     ]
    }
   ],
   "source": [
    "# Formulas used:\n",
    "# Volume (V) = l * w * h\n",
    "# Surface Area (S) = 2*l*w + 2*l*h + 2*w*h\n",
    "\n",
    "# Objective function: max l * w* h\n",
    "# Constraints\n",
    "# - Want to maximize the volume of a box by adjusting the\n",
    "#   length, width, height\n",
    "# - Surface area must be no more than 10\n",
    "# therefore, our contraints can be represented as\n",
    "#  - 10 >= 2*l*w + 2*l*h + 2*w*h\n",
    "#  - l, w, h > 0\n",
    "\n",
    "import numpy as np\n",
    "from scipy.optimize import minimize\n",
    "\n",
    "def objective_func(values):\n",
    "    l = values[0]\n",
    "    w = values[1]\n",
    "    h = values[2]\n",
    "    \n",
    "    return l * w * h\n",
    "\n",
    "def inequality_constraint(values):\n",
    "    l = values[0]\n",
    "    w = values[1]\n",
    "    h = values[2]\n",
    "    \n",
    "    return 2*l*w + 2*l*h + 2*w*h - 10\n",
    "\n",
    "bounds_l = (1.0,3.0)\n",
    "bounds_w = (1.0,3.0)\n",
    "bounds_h = (1.0,3.0)\n",
    "\n",
    "bounds = [bounds_l, bounds_w, bounds_h]\n",
    "constraint = [{'type':'ineq', 'fun':inequality_constraint}]\n",
    "\n",
    "result = minimize(\n",
    "    lambda x: -1.0 * objective_func(x),\n",
    "    [1,1,1],\n",
    "    method='SLSQP',\n",
    "    bounds=bounds,\n",
    "    constraints=constraint\n",
    ")\n",
    "\n",
    "print(result)\n",
    "l = result.x[0]\n",
    "w = result.x[1]\n",
    "h = result.x[2]\n",
    "print('Optimal length:       ' + str(l))\n",
    "print('Optimal width:        ' + str(w))\n",
    "print('Optimal height:       ' + str(h))\n",
    "print('Optimal volume:       ' + str(objective_func(result.x)))\n",
    "sa = 2*l*w + 2*l*h + 2*w*h\n",
    "print('Optimal surface area: ' + str(sa))\n",
    "\n",
    "# So I know this doesn't meet the requirements of the assignment, but I\n",
    "# really did try to figure this out, but I just wasn't having any luck.\n",
    "# Can you tell me what I was doing wrong here?"
   ]
  },
  {
   "cell_type": "code",
   "execution_count": null,
   "id": "23ed6ab4",
   "metadata": {},
   "outputs": [],
   "source": []
  }
 ],
 "metadata": {
  "kernelspec": {
   "display_name": "Python 3 (ipykernel)",
   "language": "python",
   "name": "python3"
  },
  "language_info": {
   "codemirror_mode": {
    "name": "ipython",
    "version": 3
   },
   "file_extension": ".py",
   "mimetype": "text/x-python",
   "name": "python",
   "nbconvert_exporter": "python",
   "pygments_lexer": "ipython3",
   "version": "3.10.9"
  }
 },
 "nbformat": 4,
 "nbformat_minor": 5
}
