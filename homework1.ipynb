{
 "cells": [
  {
   "cell_type": "markdown",
   "metadata": {
    "id": "MZjBN_HdrL3w"
   },
   "source": [
    "##**Use sympy to solve the following questions**\n",
    "**1. Solve the quadratic function $x^2+2x-8=0$**"
   ]
  },
  {
   "cell_type": "code",
   "execution_count": 1,
   "metadata": {
    "id": "deEemH-qrnCG"
   },
   "outputs": [
    {
     "data": {
      "text/plain": [
       "{2: 1, -4: 1}"
      ]
     },
     "execution_count": 1,
     "metadata": {},
     "output_type": "execute_result"
    }
   ],
   "source": [
    "from sympy import *\n",
    "from sympy.abc import x\n",
    "\n",
    "roots(x**2 + 2*x - 8)"
   ]
  },
  {
   "cell_type": "markdown",
   "metadata": {
    "id": "osWHgKk5t9MA"
   },
   "source": [
    "**2. What is the function f(x) which is equal to its\n",
    "derivative?**"
   ]
  },
  {
   "cell_type": "code",
   "execution_count": 3,
   "metadata": {
    "id": "MR8ijByJroeV"
   },
   "outputs": [
    {
     "data": {
      "text/latex": [
       "$\\displaystyle 2 x + 2$"
      ],
      "text/plain": [
       "2*x + 2"
      ]
     },
     "execution_count": 3,
     "metadata": {},
     "output_type": "execute_result"
    }
   ],
   "source": [
    "diff(x**2 + 2*x - 8)"
   ]
  },
  {
   "cell_type": "markdown",
   "metadata": {
    "id": "P2b7XyAD5qf1"
   },
   "source": [
    "**3. Compute the area under $f(x)=x^3$ from x=0 to x=1**"
   ]
  },
  {
   "cell_type": "code",
   "execution_count": 4,
   "metadata": {
    "id": "W1MNf_ptrqOK"
   },
   "outputs": [
    {
     "data": {
      "text/latex": [
       "$\\displaystyle \\frac{1}{4}$"
      ],
      "text/plain": [
       "1/4"
      ]
     },
     "execution_count": 4,
     "metadata": {},
     "output_type": "execute_result"
    }
   ],
   "source": [
    "integrate(x**3, (x, 0, 1))"
   ]
  },
  {
   "cell_type": "markdown",
   "metadata": {
    "id": "X0WDytOW_0Ds"
   },
   "source": [
    "**4. Calculate $\\displaystyle\\sum\\limits_{x=0}^\\infty \\left(\\frac{1}{x!}\\right)$**"
   ]
  },
  {
   "cell_type": "code",
   "execution_count": 8,
   "metadata": {
    "id": "9j3BL9Tbrrhw"
   },
   "outputs": [
    {
     "data": {
      "text/latex": [
       "$\\displaystyle e$"
      ],
      "text/plain": [
       "E"
      ]
     },
     "execution_count": 8,
     "metadata": {},
     "output_type": "execute_result"
    }
   ],
   "source": [
    "summation(1 / factorial(x), (x, 0, oo))"
   ]
  },
  {
   "cell_type": "markdown",
   "metadata": {
    "id": "GX1ZPTnTCtrV"
   },
   "source": [
    "**5. Calculate $\\lim_{n \\rightarrow \\infty}(1+\\frac{1}{n})^n$**"
   ]
  },
  {
   "cell_type": "code",
   "execution_count": 7,
   "metadata": {
    "id": "9RuIX--BrwG_"
   },
   "outputs": [
    {
     "data": {
      "text/latex": [
       "$\\displaystyle e$"
      ],
      "text/plain": [
       "E"
      ]
     },
     "execution_count": 7,
     "metadata": {},
     "output_type": "execute_result"
    }
   ],
   "source": [
    "n = symbols('n')\n",
    "\n",
    "limit(((1 + 1/n)**n), n, oo)"
   ]
  },
  {
   "cell_type": "markdown",
   "metadata": {
    "id": "PJ_WIHAZE9P2"
   },
   "source": [
    "**6. flips the matrix through its diagonal $\\begin{bmatrix}2&-3&-8&7 \\\\-2&-1&2&-7\\\\ 1&0&-3&6 \\end{bmatrix}$**"
   ]
  },
  {
   "cell_type": "code",
   "execution_count": 10,
   "metadata": {
    "id": "DjIgeasrrw1d"
   },
   "outputs": [
    {
     "data": {
      "text/latex": [
       "$\\displaystyle \\left[\\begin{matrix}2 & -2 & 1\\\\-3 & -1 & 0\\\\-8 & 2 & -3\\\\7 & -7 & 6\\end{matrix}\\right]$"
      ],
      "text/plain": [
       "Matrix([\n",
       "[ 2, -2,  1],\n",
       "[-3, -1,  0],\n",
       "[-8,  2, -3],\n",
       "[ 7, -7,  6]])"
      ]
     },
     "execution_count": 10,
     "metadata": {},
     "output_type": "execute_result"
    }
   ],
   "source": [
    "M = Matrix([[2, -3, -8, 7], [-2, -1, 2, -7], [1, 0, -3, 6]])\n",
    "M.transpose()"
   ]
  },
  {
   "cell_type": "markdown",
   "metadata": {
    "id": "rLTC_3INOPdj"
   },
   "source": [
    "**7. Row operations: We know the following matrix**"
   ]
  },
  {
   "cell_type": "code",
   "execution_count": 13,
   "metadata": {
    "colab": {
     "base_uri": "https://localhost:8080/",
     "height": 78
    },
    "id": "iWzjfQn0Ox_a",
    "outputId": "9a591e92-6369-4a7a-ddde-f4b3748e88b2"
   },
   "outputs": [
    {
     "data": {
      "text/latex": [
       "$\\displaystyle \\left[\\begin{matrix}1 & 0 & 0\\\\0 & 1 & 0\\\\0 & 0 & 1\\end{matrix}\\right]$"
      ],
      "text/plain": [
       "Matrix([\n",
       "[1, 0, 0],\n",
       "[0, 1, 0],\n",
       "[0, 0, 1]])"
      ]
     },
     "execution_count": 13,
     "metadata": {},
     "output_type": "execute_result"
    }
   ],
   "source": [
    " M = eye(3)\n",
    " M"
   ]
  },
  {
   "cell_type": "markdown",
   "metadata": {
    "id": "v8pI_LiDjkBj"
   },
   "source": [
    "**Do matrix row operations to R2 ← R2 + 3R1. (update Row 2 to R2+3*R1). Print the matrix**"
   ]
  },
  {
   "cell_type": "code",
   "execution_count": 13,
   "metadata": {
    "id": "WpVLzCfHrzd5"
   },
   "outputs": [
    {
     "data": {
      "text/latex": [
       "$\\displaystyle \\left[\\begin{matrix}1 & 0 & 0\\\\3 & 1 & 0\\\\0 & 0 & 1\\end{matrix}\\right]$"
      ],
      "text/plain": [
       "Matrix([\n",
       "[1, 0, 0],\n",
       "[3, 1, 0],\n",
       "[0, 0, 1]])"
      ]
     },
     "execution_count": 13,
     "metadata": {},
     "output_type": "execute_result"
    }
   ],
   "source": [
    "M = eye(3)\n",
    "M[1, :] = M[1, :] + 3*M[0, :]\n",
    "M"
   ]
  },
  {
   "cell_type": "markdown",
   "metadata": {
    "id": "lStKMbpWkZky"
   },
   "source": [
    "**8.Find determinant of M**"
   ]
  },
  {
   "cell_type": "code",
   "execution_count": 16,
   "metadata": {
    "id": "klYDCja9r1N3"
   },
   "outputs": [
    {
     "data": {
      "text/latex": [
       "$\\displaystyle 1$"
      ],
      "text/plain": [
       "1"
      ]
     },
     "execution_count": 16,
     "metadata": {},
     "output_type": "execute_result"
    }
   ],
   "source": [
    "M.det()"
   ]
  },
  {
   "cell_type": "markdown",
   "metadata": {
    "id": "qaXra9fNlSDu"
   },
   "source": [
    "**9.Find the following matrix's eigenvalue and eigen vector**"
   ]
  },
  {
   "cell_type": "code",
   "execution_count": 17,
   "metadata": {
    "id": "W8cpvW7lljCv"
   },
   "outputs": [
    {
     "data": {
      "text/plain": [
       "[(5,\n",
       "  1,\n",
       "  [Matrix([\n",
       "   [1/2],\n",
       "   [  1]])]),\n",
       " (10,\n",
       "  1,\n",
       "  [Matrix([\n",
       "   [-2],\n",
       "   [ 1]])])]"
      ]
     },
     "execution_count": 17,
     "metadata": {},
     "output_type": "execute_result"
    }
   ],
   "source": [
    "M = Matrix( [[ 9, -2],\n",
    "[-2, 6]] )\n",
    "M.eigenvals()\n",
    "M.eigenvects()"
   ]
  },
  {
   "cell_type": "markdown",
   "metadata": {
    "id": "T0NeZ4Hwo1Uy"
   },
   "source": [
    "**10. Implement the Predator-prey model in python**\n",
    "\n",
    "Suppose fish starts at 10 hundreds, bears starts at 1 hundred\n",
    "\n",
    "alpha = 1.1\n",
    "\n",
    "beta = 0.4\n",
    "\n",
    "delta = 0.1\n",
    "\n",
    "gamma = 0.4\n",
    "\n",
    "draw the plots(bear-time, fish-time)\n",
    "\n",
    "t = np.linspace(0,50,num=1000)\n"
   ]
  },
  {
   "cell_type": "code",
   "execution_count": 22,
   "metadata": {
    "scrolled": true
   },
   "outputs": [
    {
     "data": {
      "image/png": "[encoded data removed]",
      "text/plain": [
       "<Figure size 640x480 with 1 Axes>"
      ]
     },
     "metadata": {},
     "output_type": "display_data"
    }
   ],
   "source": [
    "import numpy as np\n",
    "import pandas as pd\n",
    "import matplotlib.pyplot as plt\n",
    "from scipy import integrate\n",
    "import ipywidgets as ipw\n",
    "\n",
    "alpha = 1.1\n",
    "beta = 0.4\n",
    "delta = .1\n",
    "gamma = 0.4\n",
    "x0 = 1000 # ten hundreds means a thousand right?\n",
    "y0 = 100\n",
    "\n",
    "def derivative(X, t, alpha, beta, delta, gamma):\n",
    "    x, y = X\n",
    "    dotx = x * (alpha - beta * y)\n",
    "    doty = y * (-delta + gamma * x)\n",
    "    \n",
    "    return np.array([dotx, doty])\n",
    "\n",
    "t = np.linspace(0, 50, num=1000)\n",
    "X0 = [x0, y0]\n",
    "res = integrate.odeint(derivative, X0, t, args = (alpha, beta, delta, gamma))\n",
    "x, y = res.T\n",
    "\n",
    "plt.figure()\n",
    "plt.grid()\n",
    "plt.title(\"odeint method\")\n",
    "plt.plot(t, x, 'xb', label = \"Fish\")\n",
    "plt.plot(t, y, '+r', label = \"Bears\")\n",
    "plt.xlabel('Time t, [days]')\n",
    "plt.ylabel('Population')\n",
    "plt.legend()\n",
    "plt.show()"
   ]
  },
  {
   "cell_type": "code",
   "execution_count": null,
   "metadata": {},
   "outputs": [],
   "source": []
  }
 ],
 "metadata": {
  "colab": {
   "collapsed_sections": [],
   "name": "homework1.ipynb",
   "provenance": []
  },
  "kernelspec": {
   "display_name": "Python 3 (ipykernel)",
   "language": "python",
   "name": "python3"
  },
  "language_info": {
   "codemirror_mode": {
    "name": "ipython",
    "version": 3
   },
   "file_extension": ".py",
   "mimetype": "text/x-python",
   "name": "python",
   "nbconvert_exporter": "python",
   "pygments_lexer": "ipython3",
   "version": "3.10.9"
  }
 },
 "nbformat": 4,
 "nbformat_minor": 1
}
