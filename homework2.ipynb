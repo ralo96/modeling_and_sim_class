{
 "cells": [
  {
   "cell_type": "markdown",
   "metadata": {
    "id": "nF0Ps19ADEAg"
   },
   "source": [
    "\n",
    "1. Use for loop to generate 3 random integers between 100 and 999 which is divisible by 5. \n",
    "\n"
   ]
  },
  {
   "cell_type": "code",
   "execution_count": 2,
   "metadata": {
    "colab": {
     "base_uri": "https://localhost:8080/"
    },
    "executionInfo": {
     "elapsed": 133,
     "status": "ok",
     "timestamp": 1648925253159,
     "user": {
      "displayName": "Xiaoli Huan",
      "userId": "12700089891795799701"
     },
     "user_tz": 300
    },
    "id": "TioIKiMBDPGR",
    "outputId": "be145924-866c-471b-f990-eae694b57483"
   },
   "outputs": [
    {
     "data": {
      "text/plain": [
       "[815, 665, 400]"
      ]
     },
     "execution_count": 2,
     "metadata": {},
     "output_type": "execute_result"
    }
   ],
   "source": [
    "import random\n",
    "\n",
    "def generate_number():\n",
    "    number = 1\n",
    "    while number % 5 != 0:\n",
    "        number = random.randint(100,999)\n",
    "    return number\n",
    "\n",
    "num_list = []\n",
    "for i in range(3):\n",
    "    num_list.append(generate_number())\n",
    "    \n",
    "num_list"
   ]
  },
  {
   "cell_type": "markdown",
   "metadata": {
    "id": "hyXLw2juDQBR"
   },
   "source": [
    "2.The Logistic distribution is used in Extreme Value problems where it can act as a mixture of Gumbel distributions. Draw samples from a logistic distribution and plot it. loc=10, scale=1 and size =1000. "
   ]
  },
  {
   "cell_type": "code",
   "execution_count": 50,
   "metadata": {
    "colab": {
     "base_uri": "https://localhost:8080/",
     "height": 267
    },
    "executionInfo": {
     "elapsed": 510,
     "status": "ok",
     "timestamp": 1648925253822,
     "user": {
      "displayName": "Xiaoli Huan",
      "userId": "12700089891795799701"
     },
     "user_tz": 300
    },
    "id": "t2yhyP6RDXMI",
    "outputId": "2b8b2194-1abe-4d3b-fdb7-d18c91ec2e3a"
   },
   "outputs": [
    {
     "data": {
      "image/png": "[encoded data removed]",
      "text/plain": [
       "<Figure size 640x480 with 1 Axes>"
      ]
     },
     "metadata": {},
     "output_type": "display_data"
    }
   ],
   "source": [
    "# XXX What am I supposed to be doing here???\n",
    "import matplotlib.pyplot as plt\n",
    "\n",
    "distribution = np.random.logistic(loc=10, scale=1, size=1000)\n",
    "ignored = plt.hist(distribution, bins=50)"
   ]
  },
  {
   "cell_type": "markdown",
   "metadata": {
    "id": "0jAtQnvcFn1g"
   },
   "source": [
    "3.\tGenerate 6 digit random secure OTP."
   ]
  },
  {
   "cell_type": "code",
   "execution_count": 5,
   "metadata": {
    "colab": {
     "base_uri": "https://localhost:8080/"
    },
    "executionInfo": {
     "elapsed": 28,
     "status": "ok",
     "timestamp": 1648925253823,
     "user": {
      "displayName": "Xiaoli Huan",
      "userId": "12700089891795799701"
     },
     "user_tz": 300
    },
    "id": "8pnAxvQyGLN7",
    "outputId": "d981f4f4-5bfa-4955-aae6-f92d3aace4d4"
   },
   "outputs": [
    {
     "data": {
      "text/plain": [
       "'000772'"
      ]
     },
     "execution_count": 5,
     "metadata": {},
     "output_type": "execute_result"
    }
   ],
   "source": [
    "otp = ''\n",
    "\n",
    "for i in range(6):\n",
    "    digit = random.randint(0,9)\n",
    "    otp += str(digit)\n",
    "    \n",
    "otp"
   ]
  },
  {
   "cell_type": "markdown",
   "metadata": {
    "id": "sRajmF4JGc9C"
   },
   "source": [
    "4.\tPick a random character from a given string such as \"Simulation and modeling\""
   ]
  },
  {
   "cell_type": "code",
   "execution_count": 11,
   "metadata": {
    "colab": {
     "base_uri": "https://localhost:8080/"
    },
    "executionInfo": {
     "elapsed": 24,
     "status": "ok",
     "timestamp": 1648925253824,
     "user": {
      "displayName": "Xiaoli Huan",
      "userId": "12700089891795799701"
     },
     "user_tz": 300
    },
    "id": "7dquFCrHGeGx",
    "outputId": "1820adae-3495-4c44-81c0-2973e40efe55"
   },
   "outputs": [
    {
     "name": "stdout",
     "output_type": "stream",
     "text": [
      "Random char is i\n"
     ]
    }
   ],
   "source": [
    "string = \"Simulation and modeling\"\n",
    "\n",
    "print(\"Random char is \" + random.choice(string))"
   ]
  },
  {
   "cell_type": "markdown",
   "metadata": {
    "id": "LWo72SxJGxOd"
   },
   "source": [
    "5. Import string and random module. Generate a string with 5 characters with UPPER case and lower case letters only. No numbers and a special symbol."
   ]
  },
  {
   "cell_type": "code",
   "execution_count": 13,
   "metadata": {
    "colab": {
     "base_uri": "https://localhost:8080/"
    },
    "executionInfo": {
     "elapsed": 20,
     "status": "ok",
     "timestamp": 1648925253825,
     "user": {
      "displayName": "Xiaoli Huan",
      "userId": "12700089891795799701"
     },
     "user_tz": 300
    },
    "id": "rf1xMCM8HPhw",
    "outputId": "3e8deea6-c924-404b-ab85-ceb8299f91fe"
   },
   "outputs": [
    {
     "data": {
      "text/plain": [
       "'ZHJrz'"
      ]
     },
     "execution_count": 13,
     "metadata": {},
     "output_type": "execute_result"
    }
   ],
   "source": [
    "import string\n",
    "\n",
    "length = 5\n",
    "\n",
    "acceptable_chars = string.ascii_lowercase + string.ascii_uppercase\n",
    "rand_string = ''.join(random.choice(acceptable_chars) for i in range(length))\n",
    "\n",
    "rand_string"
   ]
  },
  {
   "cell_type": "markdown",
   "metadata": {
    "id": "7yXtRN6WHYiu"
   },
   "source": [
    "6. Import string and random module. Generate a Password with length 10 which contains 2 upper case letters, 1 digit, and 1 special symbol. "
   ]
  },
  {
   "cell_type": "code",
   "execution_count": 22,
   "metadata": {
    "colab": {
     "base_uri": "https://localhost:8080/"
    },
    "executionInfo": {
     "elapsed": 18,
     "status": "ok",
     "timestamp": 1648925253826,
     "user": {
      "displayName": "Xiaoli Huan",
      "userId": "12700089891795799701"
     },
     "user_tz": 300
    },
    "id": "-3L50bqjHsKO",
    "outputId": "ace6e789-3855-492d-9c38-c57f7385a64f"
   },
   "outputs": [
    {
     "data": {
      "text/plain": [
       "'Fss>F7FF>s'"
      ]
     },
     "execution_count": 22,
     "metadata": {},
     "output_type": "execute_result"
    }
   ],
   "source": [
    "# I'm guessing you meant at least 2 uppercase, 1 digit, and 1 special symbol\n",
    "\n",
    "UPPER = string.ascii_uppercase\n",
    "LOWER = string.ascii_lowercase\n",
    "DIGIT = string.digits\n",
    "SPECIAL = string.punctuation\n",
    "NUM_OPTIONS = 3\n",
    "\n",
    "char_dict = {\n",
    "    0 : random.choice(UPPER),\n",
    "    1 : random.choice(LOWER),\n",
    "    2 : random.choice(DIGIT),\n",
    "    3 : random.choice(SPECIAL)\n",
    "}\n",
    "\n",
    "# Generates a random string\n",
    "def CreateString():\n",
    "    generated_string = ''\n",
    "    for i in range(10):\n",
    "        generated_string += char_dict[random.randint(0,NUM_OPTIONS)]\n",
    "    \n",
    "    return generated_string\n",
    "\n",
    "# Check that the string contains the appropriate amount of each char type\n",
    "def ValidString(check_string):\n",
    "    # contains amount of required char type as well as count from argument\n",
    "    requirements = {\n",
    "        'upper' : [2,0],\n",
    "        'digit' : [1,0],\n",
    "        'special' : [1,0]\n",
    "    }\n",
    "    \n",
    "    for char in check_string:\n",
    "        if char.isupper():\n",
    "            requirements['upper'][1] += 1\n",
    "            continue\n",
    "        if char.isdigit():\n",
    "            requirements['digit'][1] += 1\n",
    "            continue\n",
    "        if char in SPECIAL:\n",
    "            requirements['special'][1] += 1\n",
    "            \n",
    "    # Check number of characters generated vs what's in it\n",
    "    if requirements['upper'][1] < requirements['upper'][0]:\n",
    "        return False\n",
    "    if requirements['digit'][1] < requirements['digit'][0]:\n",
    "        return False\n",
    "    if requirements['special'][1] < requirements['special'][0]:\n",
    "        return False\n",
    "    \n",
    "    return True\n",
    "\n",
    "generated_string = CreateString()\n",
    "while not ValidString(generated_string):\n",
    "    generated_string = CreateString()\n",
    "    \n",
    "generated_string\n",
    "        "
   ]
  },
  {
   "cell_type": "markdown",
   "metadata": {
    "id": "b5m0Kv-aIONE"
   },
   "source": [
    "7. First generate evenly spaced values within 0 to 9. Give it new shape 3x3. Then randomly permute it."
   ]
  },
  {
   "cell_type": "code",
   "execution_count": 32,
   "metadata": {
    "colab": {
     "base_uri": "https://localhost:8080/"
    },
    "executionInfo": {
     "elapsed": 16,
     "status": "ok",
     "timestamp": 1648925253827,
     "user": {
      "displayName": "Xiaoli Huan",
      "userId": "12700089891795799701"
     },
     "user_tz": 300
    },
    "id": "lA-_-8aNIYWZ",
    "outputId": "bb6e8298-8608-4077-cd06-9c9d6709c6b2"
   },
   "outputs": [
    {
     "data": {
      "text/plain": [
       "array([[0.   , 1.125, 2.25 ],\n",
       "       [6.75 , 7.875, 9.   ],\n",
       "       [3.375, 4.5  , 5.625]])"
      ]
     },
     "execution_count": 32,
     "metadata": {},
     "output_type": "execute_result"
    }
   ],
   "source": [
    "import numpy as np\n",
    "\n",
    "array = np.random.permutation(np.linspace(0,9,9).reshape(3,3))\n",
    "array"
   ]
  },
  {
   "cell_type": "markdown",
   "metadata": {
    "id": "A_qKoz0cJs56"
   },
   "source": [
    "8. Generate random secure token of 64 bytes and random URL"
   ]
  },
  {
   "cell_type": "code",
   "execution_count": 51,
   "metadata": {
    "colab": {
     "base_uri": "https://localhost:8080/"
    },
    "executionInfo": {
     "elapsed": 25,
     "status": "ok",
     "timestamp": 1648925253999,
     "user": {
      "displayName": "Xiaoli Huan",
      "userId": "12700089891795799701"
     },
     "user_tz": 300
    },
    "id": "i5Yl9imaKULT",
    "outputId": "bffd0637-e5b0-4a8f-f3ed-c2c291077d2c"
   },
   "outputs": [
    {
     "name": "stdout",
     "output_type": "stream",
     "text": [
      "The url with the generated token is\n"
     ]
    },
    {
     "data": {
      "text/plain": [
       "'https://examplewebsite.com/949d38934fa0c48900182f33e86668dd4ce0ae99fb59c7a02ddeabf2881b35d5115d0b2ee7b1249e419c431fa0d15e19415906b06e683d71280779a8e6d97a52'"
      ]
     },
     "execution_count": 51,
     "metadata": {},
     "output_type": "execute_result"
    }
   ],
   "source": [
    "# XXX So I've generated the random 64 byte token, but what do you mean about the URL?\n",
    "# The URL in the original output didn't look like a URL at all.\n",
    "import secrets\n",
    "\n",
    "token = secrets.token_hex(nbytes=64)\n",
    "print('The url with the generated token is')\n",
    "url = 'https://examplewebsite.com/' + token\n",
    "url"
   ]
  },
  {
   "cell_type": "markdown",
   "metadata": {
    "id": "BbqxqvkAKoco"
   },
   "source": [
    "9. Pick a random number from 1 to 6. Do it in such a way that every time you must get the same random output number(no hard coding numbers). do this 5 times."
   ]
  },
  {
   "cell_type": "code",
   "execution_count": 60,
   "metadata": {
    "colab": {
     "base_uri": "https://localhost:8080/"
    },
    "executionInfo": {
     "elapsed": 13,
     "status": "ok",
     "timestamp": 1648925253999,
     "user": {
      "displayName": "Xiaoli Huan",
      "userId": "12700089891795799701"
     },
     "user_tz": 300
    },
    "id": "GLkxztDWK0ZE",
    "outputId": "4f2287a0-8078-4dc0-e901-90bb7575ccc0"
   },
   "outputs": [
    {
     "name": "stdout",
     "output_type": "stream",
     "text": [
      "Randomly selecting same number of dice\n"
     ]
    },
    {
     "data": {
      "text/plain": [
       "[6, 6, 6, 6, 6, 6]"
      ]
     },
     "execution_count": 60,
     "metadata": {},
     "output_type": "execute_result"
    }
   ],
   "source": [
    "# XXX I really don't understand the point of this problem\n",
    "print(\"Randomly selecting same number of dice\")\n",
    "\n",
    "numbers = []\n",
    "\n",
    "for i in range(6):\n",
    "    random.seed(42)\n",
    "    numbers.append(random.randint(1,7))\n",
    "    \n",
    "numbers"
   ]
  },
  {
   "cell_type": "markdown",
   "metadata": {
    "id": "nKU3_whrK193"
   },
   "source": [
    "10. Write an interactive Python program to play a “guess the  number” game. The computer should think of a random integer between  1 and 20 and the user (player) has to try to guess the number within six  attempts. The program should let the player know if the guess is too high or  too low. \n"
   ]
  },
  {
   "cell_type": "code",
   "execution_count": 44,
   "metadata": {
    "colab": {
     "base_uri": "https://localhost:8080/"
    },
    "executionInfo": {
     "elapsed": 26479,
     "status": "ok",
     "timestamp": 1648925280468,
     "user": {
      "displayName": "Xiaoli Huan",
      "userId": "12700089891795799701"
     },
     "user_tz": 300
    },
    "id": "ZcGQDFpSNX6r",
    "outputId": "1d12aaa1-10ee-4214-92b6-c2128490c39b"
   },
   "outputs": [
    {
     "name": "stdout",
     "output_type": "stream",
     "text": [
      "Hi! What is your name? \n",
      "Ryan\n",
      "Welcome, Ryan! I am thinking of a number between 1 and 20.\n",
      "Take a guess and type the integer.\n",
      "What's your guess? \n",
      "10\n",
      "Your guess is too low.\n",
      "You have 5 guesses remaining.\n",
      "What's your guess? \n",
      "15\n",
      "Your guess is too low.\n",
      "You have 4 guesses remaining.\n",
      "What's your guess? \n",
      "17\n",
      "Your guess is too low.\n",
      "You have 3 guesses remaining.\n",
      "What's your guess? \n",
      "19\n",
      "Your guess is too high.\n",
      "You have 2 guesses remaining.\n",
      "What's your guess? \n",
      "18\n",
      "That's correct!\n"
     ]
    }
   ],
   "source": [
    "print('Hi! What is your name? ')\n",
    "name = input()\n",
    "print('Welcome, ' + name + '! I am thinking of a number between 1 and 20.')\n",
    "print('Take a guess and type the integer.')\n",
    "correct_number = random.randint(1,21)\n",
    "number_of_guesses = 6\n",
    "guesses_remaining = number_of_guesses\n",
    "for i in range(number_of_guesses):\n",
    "    print('What\\'s your guess? ')\n",
    "    guess = int(input())\n",
    "    if guess < correct_number:\n",
    "        print('Your guess is too low.')\n",
    "    elif guess > correct_number:\n",
    "        print('Your guess is too high.')\n",
    "    else:\n",
    "        print('That\\'s correct!')\n",
    "        break\n",
    "        \n",
    "    guesses_remaining -= 1\n",
    "    print('You have ' + str(guesses_remaining) + ' guesses remaining.')"
   ]
  }
 ],
 "metadata": {
  "colab": {
   "collapsed_sections": [],
   "name": "homework2_solution.ipynb",
   "provenance": []
  },
  "interpreter": {
   "hash": "c98e05168fa63a48dbdd2a4274fef77cd63f6368d59e4488c10e2ff7243bb6c6"
  },
  "kernelspec": {
   "display_name": "Python 3 (ipykernel)",
   "language": "python",
   "name": "python3"
  },
  "language_info": {
   "codemirror_mode": {
    "name": "ipython",
    "version": 3
   },
   "file_extension": ".py",
   "mimetype": "text/x-python",
   "name": "python",
   "nbconvert_exporter": "python",
   "pygments_lexer": "ipython3",
   "version": "3.10.9"
  }
 },
 "nbformat": 4,
 "nbformat_minor": 1
}
