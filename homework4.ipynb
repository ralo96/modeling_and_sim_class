{
 "cells": [
  {
   "cell_type": "raw",
   "id": "79920f57",
   "metadata": {},
   "source": [
    "1. Suppose you have three bills. Two are $10 bills and the other one is a $100 bill. Your friend puts each bill in a box. So one box has $100, and the other two boxes have $10 each. You pick a box, let's say box 1, then your friend who knows what's inside the boxes, opens another box, say box 3, which has a $10 bill. Do you want to stick your choice or switch to another box in order to get the $100 bill?  ( if the 100 is inside box 2 the friend must open box 3, but if the 100 is inside box 1 the friend can open either box 2 or 3.)\n",
    "\n",
    "Produce the probability numbers and a graph to justify your choice to stick or switch. "
   ]
  },
  {
   "cell_type": "code",
   "execution_count": 15,
   "id": "1e3f20dd",
   "metadata": {},
   "outputs": [
    {
     "data": {
      "image/png": "[encoded data removed]",
      "text/plain": [
       "<Figure size 640x480 with 1 Axes>"
      ]
     },
     "metadata": {},
     "output_type": "display_data"
    },
    {
     "name": "stdout",
     "output_type": "stream",
     "text": [
      "success rate:       0.5127\n",
      "swaps made:         0.5015\n",
      "swaps success rate: 0.5124626121635095\n"
     ]
    }
   ],
   "source": [
    "import matplotlib.pyplot as plt\n",
    "import numpy as np\n",
    "\n",
    "# it doesn't really make sense for the friend to take one of the\n",
    "# boxes because if he didn't already get the $100 on the first\n",
    "# try, it'd be guranteed that he'd get it?\n",
    "\n",
    "num_simulations = 10000\n",
    "simulations = []\n",
    "outcomes = []\n",
    "choices_made = []\n",
    "swap_result = []\n",
    "\n",
    "# Box generator\n",
    "def make_boxes():\n",
    "    index = np.random.randint(0,2)\n",
    "    boxes = []\n",
    "    \n",
    "    boxes = [10,10,10]\n",
    "    boxes[index] = 100\n",
    "    \n",
    "    return boxes\n",
    "\n",
    "# Run simulation\n",
    "for i in range(num_simulations):\n",
    "    simulations.append(i)\n",
    "    boxes = make_boxes()\n",
    "    swap_made = False\n",
    "    \n",
    "    # make first choice\n",
    "    choice = np.random.randint(0,2)\n",
    "    \n",
    "    # decide whether to keep the box or not\n",
    "    # If the number produced is greater than .5, switch, else, keep\n",
    "    # 1 - swap was made\n",
    "    # 0 - no swap was done\n",
    "    keep = random.random()\n",
    "    if keep > .5:\n",
    "        new_choice = choice\n",
    "        while new_choice == choice:\n",
    "            new_choice = np.random.randint(0,2)\n",
    "            \n",
    "        choice = new_choice\n",
    "        choices_made.append(1)\n",
    "        swap_made = True\n",
    "    else:\n",
    "        choices_made.append(0)\n",
    "        \n",
    "    # check if choice gave us $100\n",
    "    # 1 - success\n",
    "    # 0 - failure\n",
    "    if boxes[choice] == 100:\n",
    "        outcomes.append(1)\n",
    "        if swap_made:\n",
    "            swap_result.append(1)\n",
    "    else:\n",
    "        outcomes.append(0)\n",
    "        if swap_made:\n",
    "            swap_result.append(0)\n",
    "\n",
    "successes = sum(outcomes)\n",
    "swaps = sum(choices_made)\n",
    "swap_successes = sum(swap_result)\n",
    "\n",
    "x_axis = ['Successes', 'Swaps Done', 'Swap Successes']\n",
    "y_axis = [successes, swaps, swap_successes]\n",
    "            \n",
    "fig = plt.bar(x_axis, y_axis)\n",
    "plt.title('Monte Carlo Box Game')\n",
    "plt.xlabel('Simulation Results')\n",
    "plt.ylabel('Number of Simulations')\n",
    "plt.ylim(top=num_simulations)\n",
    "plt.show()\n",
    "        \n",
    "print('success rate:       ' + str(successes/num_simulations))\n",
    "print('swaps made:         ' + str(swaps/num_simulations))\n",
    "print('swaps success rate: ' + str(swap_successes/swaps))\n",
    "    \n",
    "    "
   ]
  },
  {
   "cell_type": "markdown",
   "id": "0dd68c47",
   "metadata": {},
   "source": [
    "2. Use the Monte Carlo method to get the integral for\n",
    "\n",
    "$$\\int_{0}^{1} x \\cdot cos(71x) + sin(13x)\\,dx$$"
   ]
  },
  {
   "cell_type": "code",
   "execution_count": 24,
   "id": "76b5a251",
   "metadata": {},
   "outputs": [
    {
     "name": "stdout",
     "output_type": "stream",
     "text": [
      "The value calculated by monte carlo integration is 0.0120782280991253.\n"
     ]
    }
   ],
   "source": [
    "# References: https://www.geeksforgeeks.org/monte-carlo-integration-in-python/\n",
    "\n",
    "from sympy import sin, cos, symbols, integrate\n",
    "import random\n",
    "import numpy as np\n",
    "\n",
    "\n",
    "a = 0\n",
    "b = 1\n",
    "N = 1000\n",
    "\n",
    "array = np.zeros(N)\n",
    "\n",
    "for i in range(len(array)):\n",
    "    array[i] = random.uniform(a,b)\n",
    "    \n",
    "integral = 0.0\n",
    "\n",
    "def f(x):\n",
    "    return x * cos(71*x) + sin(13*x)\n",
    "\n",
    "for i in array:\n",
    "    integral += f(i)\n",
    "\n",
    "answer = (b-a)/float(N)*integral\n",
    "print('The value calculated by monte carlo integration is {}.'.format(answer))"
   ]
  },
  {
   "cell_type": "code",
   "execution_count": null,
   "id": "33f0f436",
   "metadata": {},
   "outputs": [],
   "source": []
  }
 ],
 "metadata": {
  "kernelspec": {
   "display_name": "Python 3 (ipykernel)",
   "language": "python",
   "name": "python3"
  },
  "language_info": {
   "codemirror_mode": {
    "name": "ipython",
    "version": 3
   },
   "file_extension": ".py",
   "mimetype": "text/x-python",
   "name": "python",
   "nbconvert_exporter": "python",
   "pygments_lexer": "ipython3",
   "version": "3.10.9"
  }
 },
 "nbformat": 4,
 "nbformat_minor": 5
}
