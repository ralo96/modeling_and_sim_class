{
 "cells": [
  {
   "cell_type": "code",
   "execution_count": 2,
   "id": "2bdfbc98",
   "metadata": {},
   "outputs": [],
   "source": [
    "import numpy as np\n",
    "\n",
    "state = {\n",
    "    0 : \"Rest\",\n",
    "    1 : \"Exercises\",\n",
    "    2 : \"Sweeties\"\n",
    "}\n",
    "\n",
    "A = [\n",
    "    [0.2, 0.6, 0.2],\n",
    "    [0.1, 0.6, 0.3],\n",
    "    [0.2, 0.7, 0.1]\n",
    "]"
   ]
  },
  {
   "cell_type": "markdown",
   "id": "ec7aed68",
   "metadata": {},
   "source": [
    "1. The starting state is rest. Calculate the probability of possible activity on the 15th day."
   ]
  },
  {
   "cell_type": "code",
   "execution_count": 17,
   "id": "617a6cd4",
   "metadata": {},
   "outputs": [
    {
     "name": "stdout",
     "output_type": "stream",
     "text": [
      "[[0.13761468 0.62385321 0.23853211]\n",
      " [0.13761468 0.62385321 0.23853211]\n",
      " [0.13761468 0.62385321 0.23853211]]\n",
      "\n",
      "The possibility of exercise on day 15 is 62.39%\n"
     ]
    }
   ],
   "source": [
    "def calculate(A, days):\n",
    "    A_n = A\n",
    "    for i in range(days):\n",
    "        A_n = np.matmul(A_n, A)\n",
    "        \n",
    "    return A_n\n",
    "\n",
    "result = calculate(A, 15)\n",
    "print(result)\n",
    "print('\\nThe possibility of exercise on day 15 is', end=' ')\n",
    "print('{:.2f}%'.format(result[0][1] * float(100)))"
   ]
  },
  {
   "cell_type": "markdown",
   "id": "6e7a033e",
   "metadata": {},
   "source": [
    "2. What about the state and probability after 10000 days?"
   ]
  },
  {
   "cell_type": "code",
   "execution_count": 18,
   "id": "0decb6c0",
   "metadata": {},
   "outputs": [
    {
     "name": "stdout",
     "output_type": "stream",
     "text": [
      "[[0.13761468 0.62385321 0.23853211]\n",
      " [0.13761468 0.62385321 0.23853211]\n",
      " [0.13761468 0.62385321 0.23853211]]\n",
      "\n",
      "The possibility of exercise on day 10,000 is 62.39%\n"
     ]
    }
   ],
   "source": [
    "result = calculate(A, 10000)\n",
    "print(result)\n",
    "print('\\nThe possibility of exercise on day 10,000 is', end=' ')\n",
    "print('{:.2f}%'.format(result[0][1] * float(100)))"
   ]
  },
  {
   "cell_type": "markdown",
   "id": "4668bb47",
   "metadata": {},
   "source": [
    "3. What do you observe from the above two?\n",
    "\n",
    "The values have stayed the same. This indicates that this is what the probabilities converge to as we take this simulation further and further out. Meaning this is exactly what the probabilities are."
   ]
  }
 ],
 "metadata": {
  "kernelspec": {
   "display_name": "Python 3 (ipykernel)",
   "language": "python",
   "name": "python3"
  },
  "language_info": {
   "codemirror_mode": {
    "name": "ipython",
    "version": 3
   },
   "file_extension": ".py",
   "mimetype": "text/x-python",
   "name": "python",
   "nbconvert_exporter": "python",
   "pygments_lexer": "ipython3",
   "version": "3.10.9"
  }
 },
 "nbformat": 4,
 "nbformat_minor": 5
}
